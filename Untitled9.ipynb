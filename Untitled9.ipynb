{
  "nbformat": 4,
  "nbformat_minor": 0,
  "metadata": {
    "colab": {
      "provenance": [],
      "authorship_tag": "ABX9TyOMmCUNHH8kyk8BSbCxoqBz",
      "include_colab_link": true
    },
    "kernelspec": {
      "name": "python3",
      "display_name": "Python 3"
    },
    "language_info": {
      "name": "python"
    }
  },
  "cells": [
    {
      "cell_type": "markdown",
      "metadata": {
        "id": "view-in-github",
        "colab_type": "text"
      },
      "source": [
        "<a href=\"https://colab.research.google.com/github/musfi64/Abstraction-and-Polymorphism/blob/main/Untitled9.ipynb\" target=\"_parent\"><img src=\"https://colab.research.google.com/assets/colab-badge.svg\" alt=\"Open In Colab\"/></a>"
      ]
    },
    {
      "cell_type": "code",
      "execution_count": 1,
      "metadata": {
        "colab": {
          "base_uri": "https://localhost:8080/"
        },
        "id": "d_3spHIBc-uJ",
        "outputId": "a149c55d-d748-4eb1-be31-df505427df9f"
      },
      "outputs": [
        {
          "output_type": "stream",
          "name": "stdout",
          "text": [
            "after swapping: a= 20 and b= 10\n"
          ]
        }
      ],
      "source": [
        "def swap(a,b):\n",
        "  a= a^b\n",
        "  b= a^b\n",
        "  a= a^b\n",
        "  print(\"after swapping: a=\",a,\"and b=\",b)\n",
        "swap(10, 20)"
      ]
    },
    {
      "cell_type": "code",
      "source": [],
      "metadata": {
        "id": "0sLYcuNJiR1l"
      },
      "execution_count": null,
      "outputs": []
    },
    {
      "cell_type": "code",
      "source": [
        "def divide(ourdividend, ourDivisor):\n",
        "  sign=(-1 if((ourdividend < 0)^(ourDivisor<0))else 1);\n",
        "  ourdividend= abs(ourdividend);\n",
        "  ourDivisor=abs(ourDivisor);\n",
        "  qoutientNumber=0\n",
        "  tempNumber=0\n",
        "  for i in range(31, -1, -1):\n",
        "    if (tempNumber+(ourDivisor<<i)<= ourdividend):\n",
        "      tempNumber += ourDivisor<<i\n",
        "      qoutientNumber |=1<<i\n",
        "  if sign==-1:\n",
        "    qoutientNumber= -qoutientNumber\n",
        "  return quotientNumber\n",
        "a=int(input(\"Enter a for a/b: \"))\n",
        "b=int(input(\"Enter b for a/b:\"))\n",
        "print(\"Result of\", a, \"/\",  b, \"is\", divide(a,b))\n"
      ],
      "metadata": {
        "colab": {
          "base_uri": "https://localhost:8080/",
          "height": 332
        },
        "id": "UjCh1yAMdo9P",
        "outputId": "b1a9bad8-9571-4648-f885-0a5fb44bcad4"
      },
      "execution_count": 2,
      "outputs": [
        {
          "name": "stdout",
          "output_type": "stream",
          "text": [
            "Enter a for a/b: 5\n",
            "Enter b for a/b:8\n"
          ]
        },
        {
          "output_type": "error",
          "ename": "NameError",
          "evalue": "name 'quotientNumber' is not defined",
          "traceback": [
            "\u001b[0;31m---------------------------------------------------------------------------\u001b[0m",
            "\u001b[0;31mNameError\u001b[0m                                 Traceback (most recent call last)",
            "\u001b[0;32m<ipython-input-2-4a91d3b32aa3>\u001b[0m in \u001b[0;36m<cell line: 0>\u001b[0;34m()\u001b[0m\n\u001b[1;32m     14\u001b[0m \u001b[0ma\u001b[0m\u001b[0;34m=\u001b[0m\u001b[0mint\u001b[0m\u001b[0;34m(\u001b[0m\u001b[0minput\u001b[0m\u001b[0;34m(\u001b[0m\u001b[0;34m\"Enter a for a/b: \"\u001b[0m\u001b[0;34m)\u001b[0m\u001b[0;34m)\u001b[0m\u001b[0;34m\u001b[0m\u001b[0;34m\u001b[0m\u001b[0m\n\u001b[1;32m     15\u001b[0m \u001b[0mb\u001b[0m\u001b[0;34m=\u001b[0m\u001b[0mint\u001b[0m\u001b[0;34m(\u001b[0m\u001b[0minput\u001b[0m\u001b[0;34m(\u001b[0m\u001b[0;34m\"Enter b for a/b:\"\u001b[0m\u001b[0;34m)\u001b[0m\u001b[0;34m)\u001b[0m\u001b[0;34m\u001b[0m\u001b[0;34m\u001b[0m\u001b[0m\n\u001b[0;32m---> 16\u001b[0;31m \u001b[0mprint\u001b[0m\u001b[0;34m(\u001b[0m\u001b[0;34m\"Result of\"\u001b[0m\u001b[0;34m,\u001b[0m \u001b[0ma\u001b[0m\u001b[0;34m,\u001b[0m \u001b[0;34m\"/\"\u001b[0m\u001b[0;34m,\u001b[0m  \u001b[0mb\u001b[0m\u001b[0;34m,\u001b[0m \u001b[0;34m\"is\"\u001b[0m\u001b[0;34m,\u001b[0m \u001b[0mdivide\u001b[0m\u001b[0;34m(\u001b[0m\u001b[0ma\u001b[0m\u001b[0;34m,\u001b[0m\u001b[0mb\u001b[0m\u001b[0;34m)\u001b[0m\u001b[0;34m)\u001b[0m\u001b[0;34m\u001b[0m\u001b[0;34m\u001b[0m\u001b[0m\n\u001b[0m",
            "\u001b[0;32m<ipython-input-2-4a91d3b32aa3>\u001b[0m in \u001b[0;36mdivide\u001b[0;34m(ourdividend, ourDivisor)\u001b[0m\n\u001b[1;32m     11\u001b[0m   \u001b[0;32mif\u001b[0m \u001b[0msign\u001b[0m\u001b[0;34m==\u001b[0m\u001b[0;34m-\u001b[0m\u001b[0;36m1\u001b[0m\u001b[0;34m:\u001b[0m\u001b[0;34m\u001b[0m\u001b[0;34m\u001b[0m\u001b[0m\n\u001b[1;32m     12\u001b[0m     \u001b[0mqoutientNumber\u001b[0m\u001b[0;34m=\u001b[0m \u001b[0;34m-\u001b[0m\u001b[0mqoutientNumber\u001b[0m\u001b[0;34m\u001b[0m\u001b[0;34m\u001b[0m\u001b[0m\n\u001b[0;32m---> 13\u001b[0;31m   \u001b[0;32mreturn\u001b[0m \u001b[0mquotientNumber\u001b[0m\u001b[0;34m\u001b[0m\u001b[0;34m\u001b[0m\u001b[0m\n\u001b[0m\u001b[1;32m     14\u001b[0m \u001b[0ma\u001b[0m\u001b[0;34m=\u001b[0m\u001b[0mint\u001b[0m\u001b[0;34m(\u001b[0m\u001b[0minput\u001b[0m\u001b[0;34m(\u001b[0m\u001b[0;34m\"Enter a for a/b: \"\u001b[0m\u001b[0;34m)\u001b[0m\u001b[0;34m)\u001b[0m\u001b[0;34m\u001b[0m\u001b[0;34m\u001b[0m\u001b[0m\n\u001b[1;32m     15\u001b[0m \u001b[0mb\u001b[0m\u001b[0;34m=\u001b[0m\u001b[0mint\u001b[0m\u001b[0;34m(\u001b[0m\u001b[0minput\u001b[0m\u001b[0;34m(\u001b[0m\u001b[0;34m\"Enter b for a/b:\"\u001b[0m\u001b[0;34m)\u001b[0m\u001b[0;34m)\u001b[0m\u001b[0;34m\u001b[0m\u001b[0;34m\u001b[0m\u001b[0m\n",
            "\u001b[0;31mNameError\u001b[0m: name 'quotientNumber' is not defined"
          ]
        }
      ]
    },
    {
      "cell_type": "code",
      "source": [
        "def divide(ourdividend, ourDivisor):\n",
        "  sign = (-1 if((ourdividend < 0) ^ (ourDivisor < 0)) else 1);\n",
        "  ourdividend = abs(ourdividend);\n",
        "  ourDivisor = abs(ourDivisor);\n",
        "\n",
        "  quotientNumber = 0\n",
        "  tempNumber = 0\n",
        "  for i in range(31, -1, -1):\n",
        "    if (tempNumber + (ourDivisor << i) <= ourdividend):\n",
        "      tempNumber += ourDivisor << i\n",
        "      quotientNumber |= 1 << i\n",
        "  if sign == -1:\n",
        "    quotientNumber = -quotientNumber\n",
        "  return quotientNumber\n",
        "\n",
        "a = int(input(\"Enter a for a/b: \"))\n",
        "b = int(input(\"Enter b for a/b: \"))\n",
        "print(\"Result of\", a, \"/\", b, \"is\", divide(a, b))"
      ],
      "metadata": {
        "id": "Ofjgqculh7Wx",
        "outputId": "07b7dfb5-e88c-4074-c02f-1959a4157e7b",
        "colab": {
          "base_uri": "https://localhost:8080/"
        }
      },
      "execution_count": 4,
      "outputs": [
        {
          "output_type": "stream",
          "name": "stdout",
          "text": [
            "Enter a for a/b: 8\n",
            "Enter b for a/b: 5\n",
            "Result of 8 / 5 is 1\n"
          ]
        }
      ]
    }
  ]
}