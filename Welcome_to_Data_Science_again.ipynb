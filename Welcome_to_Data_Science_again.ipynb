{
  "nbformat": 4,
  "nbformat_minor": 0,
  "metadata": {
    "colab": {
      "provenance": [],
      "authorship_tag": "ABX9TyMGTc4b3txxj0By33vaqfpA",
      "include_colab_link": true
    },
    "kernelspec": {
      "name": "python3",
      "display_name": "Python 3"
    },
    "language_info": {
      "name": "python"
    }
  },
  "cells": [
    {
      "cell_type": "markdown",
      "metadata": {
        "id": "view-in-github",
        "colab_type": "text"
      },
      "source": [
        "<a href=\"https://colab.research.google.com/github/musfi64/Abstraction-and-Polymorphism/blob/main/Welcome_to_Data_Science_again.ipynb\" target=\"_parent\"><img src=\"https://colab.research.google.com/assets/colab-badge.svg\" alt=\"Open In Colab\"/></a>"
      ]
    },
    {
      "cell_type": "code",
      "execution_count": 1,
      "metadata": {
        "id": "CJuJKHk8w4uS"
      },
      "outputs": [],
      "source": [
        "import numpy as np"
      ]
    },
    {
      "cell_type": "code",
      "source": [
        "data_type=[('name', 'S15'), ('class', int), ('height', float)]\n",
        "students_details=[('James', 5, 48.5), ('Nail', 6, 52.5), ('Paul', 5, 42.10), ('Pit', 5, 40.11)]\n",
        "students=np.array(students_details, dtype=data_type)\n",
        "print(\"Original array:\")\n",
        "print(students)\n",
        "print(\"sort by height\")\n",
        "print(np.sort(students, order='height'))"
      ],
      "metadata": {
        "colab": {
          "base_uri": "https://localhost:8080/"
        },
        "id": "LZiR4iH7zfUZ",
        "outputId": "9ee87e3c-c8ce-4a8d-da89-719f0e7ace23"
      },
      "execution_count": 3,
      "outputs": [
        {
          "output_type": "stream",
          "name": "stdout",
          "text": [
            "Original array:\n",
            "[(b'James', 5, 48.5 ) (b'Nail', 6, 52.5 ) (b'Paul', 5, 42.1 )\n",
            " (b'Pit', 5, 40.11)]\n",
            "sort by height\n",
            "[(b'Pit', 5, 40.11) (b'Paul', 5, 42.1 ) (b'James', 5, 48.5 )\n",
            " (b'Nail', 6, 52.5 )]\n"
          ]
        }
      ]
    }
  ]
}