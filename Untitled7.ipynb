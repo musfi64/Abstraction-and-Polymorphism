{
  "nbformat": 4,
  "nbformat_minor": 0,
  "metadata": {
    "colab": {
      "provenance": [],
      "authorship_tag": "ABX9TyNU6xGXtPE5l+HyebQ6UzRB",
      "include_colab_link": true
    },
    "kernelspec": {
      "name": "python3",
      "display_name": "Python 3"
    },
    "language_info": {
      "name": "python"
    }
  },
  "cells": [
    {
      "cell_type": "markdown",
      "metadata": {
        "id": "view-in-github",
        "colab_type": "text"
      },
      "source": [
        "<a href=\"https://colab.research.google.com/github/musfi64/Abstraction-and-Polymorphism/blob/main/Untitled7.ipynb\" target=\"_parent\"><img src=\"https://colab.research.google.com/assets/colab-badge.svg\" alt=\"Open In Colab\"/></a>"
      ]
    },
    {
      "cell_type": "code",
      "execution_count": 1,
      "metadata": {
        "colab": {
          "base_uri": "https://localhost:8080/"
        },
        "id": "c3YDBUwdV4H8",
        "outputId": "b31e5182-cbc5-402f-a5bf-6e7824180b74"
      },
      "outputs": [
        {
          "output_type": "stream",
          "name": "stdout",
          "text": [
            "num1 & num2 are: 10 4\n",
            "num1 | num2 are: 14\n",
            "num1 ^ num2 are: 14\n",
            "num1 << num2 are: 160\n",
            "num1 >> num2 are: 0\n",
            "~num1 are: -11\n",
            "~num2 are: -5\n"
          ]
        }
      ],
      "source": [
        "num1=10\n",
        "num2=4\n",
        "print(\"num1 & num2 are:\", num1, num2)\n",
        "print(\"num1 | num2 are:\", num1 | num2)\n",
        "print(\"num1 ^ num2 are:\", num1 ^ num2)\n",
        "print(\"num1 << num2 are:\", num1 << num2)\n",
        "print(\"num1 >> num2 are:\", num1 >> num2)\n",
        "print(\"~num1 are:\", ~num1)\n",
        "print(\"~num2 are:\", ~num2)"
      ]
    },
    {
      "cell_type": "code",
      "source": [
        "def isEvenOdd(n):\n",
        "  if(n^1== n+1):\n",
        "    return True;\n",
        "  else:\n",
        "    return False;\n",
        "number=int(input(\"Enter your number:\"))\n",
        "if isEvenOdd(number):\n",
        "  print(number, \"is even\")\n",
        "else:\n",
        "  print(number, \"is odd\")"
      ],
      "metadata": {
        "colab": {
          "base_uri": "https://localhost:8080/"
        },
        "id": "hWJglMF3XBRi",
        "outputId": "c9abcdd6-cd99-41af-cae8-e6428f9aa3fe"
      },
      "execution_count": 2,
      "outputs": [
        {
          "output_type": "stream",
          "name": "stdout",
          "text": [
            "Enter your number:25\n",
            "25 is odd\n"
          ]
        }
      ]
    },
    {
      "cell_type": "code",
      "source": [
        "def numberOfBits(n):\n",
        "  count=0\n",
        "  while(n):\n",
        "    count+= 1\n",
        "    n >>= 1\n",
        "  return count\n",
        "n=int(input(\"Enter a number:\"))\n",
        "print(\"Number of bits:\", numberOfBits(n))"
      ],
      "metadata": {
        "colab": {
          "base_uri": "https://localhost:8080/"
        },
        "id": "GewZjGK8YcmX",
        "outputId": "11357eec-3ae4-4d71-e01d-8cdd599a9f54"
      },
      "execution_count": 3,
      "outputs": [
        {
          "output_type": "stream",
          "name": "stdout",
          "text": [
            "Enter a number:45\n",
            "Number of bits: 6\n"
          ]
        }
      ]
    }
  ]
}