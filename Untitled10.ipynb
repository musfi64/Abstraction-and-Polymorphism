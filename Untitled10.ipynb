{
  "nbformat": 4,
  "nbformat_minor": 0,
  "metadata": {
    "colab": {
      "provenance": [],
      "authorship_tag": "ABX9TyNi77xwWEuTx470uOKQVObL",
      "include_colab_link": true
    },
    "kernelspec": {
      "name": "python3",
      "display_name": "Python 3"
    },
    "language_info": {
      "name": "python"
    }
  },
  "cells": [
    {
      "cell_type": "markdown",
      "metadata": {
        "id": "view-in-github",
        "colab_type": "text"
      },
      "source": [
        "<a href=\"https://colab.research.google.com/github/musfi64/Abstraction-and-Polymorphism/blob/main/Untitled10.ipynb\" target=\"_parent\"><img src=\"https://colab.research.google.com/assets/colab-badge.svg\" alt=\"Open In Colab\"/></a>"
      ]
    },
    {
      "cell_type": "code",
      "execution_count": 4,
      "metadata": {
        "colab": {
          "base_uri": "https://localhost:8080/"
        },
        "id": "Rlr4G4jRV1lV",
        "outputId": "cc07ae2b-de9b-4b6e-c2ce-a709f880f9df"
      },
      "outputs": [
        {
          "output_type": "stream",
          "name": "stdout",
          "text": [
            "Enter array  size:3\n",
            "Enter element:1\n",
            "Enter element:2\n",
            "Enter element:3\n",
            "\n",
            "1\n",
            "2\n",
            "12\n",
            "3\n",
            "13\n",
            "23\n",
            "123\n"
          ]
        }
      ],
      "source": [
        "import math\n",
        "def printPowerSet(set,SetSize):\n",
        "  PowerSetSize=(int)(math.pow(2, SetSize))\n",
        "  outer=0;\n",
        "  inner=0;\n",
        "  for outer in range(0, PowerSetSize):\n",
        "    for inner in range(0, SetSize):\n",
        "      if((outer & (1 << inner))> 0):\n",
        "        print(set[inner],end = \"\")\n",
        "    print(\"\")\n",
        "size=int(input(\"Enter array  size:\"))\n",
        "set=[]\n",
        "for i in range(0,size):\n",
        "  n=int(input(\"Enter element:\"))\n",
        "  set.append(n)\n",
        "printPowerSet(set, len(set))"
      ]
    },
    {
      "cell_type": "code",
      "source": [
        "def flips(num1,num2):\n",
        "  flip=0\n",
        "  while(num1>0 or num2>0):\n",
        "    t1=num1 & 1\n",
        "    t2=num2 &1\n",
        "    if t1 != t2:\n",
        "      flip+=1\n",
        "    num1>>=1\n",
        "    num2>>=1\n",
        "  return flip\n",
        "num1=int(input(\"enter first number:\"))\n",
        "num2=int(input(\"enter second number:\"))\n",
        "print(\"Number of flips need:\", flips(num1, num2))"
      ],
      "metadata": {
        "colab": {
          "base_uri": "https://localhost:8080/"
        },
        "id": "MnYo_LU9aCMI",
        "outputId": "ce5c6329-b8f5-47a1-cd9c-23e90e33b787"
      },
      "execution_count": 5,
      "outputs": [
        {
          "output_type": "stream",
          "name": "stdout",
          "text": [
            "enter first number:5\n",
            "enter second number:7\n",
            "Number of flips need: 1\n"
          ]
        }
      ]
    }
  ]
}