{
  "nbformat": 4,
  "nbformat_minor": 0,
  "metadata": {
    "colab": {
      "provenance": [],
      "authorship_tag": "ABX9TyMHQpYYRIKFKzbmFTsYFhGp",
      "include_colab_link": true
    },
    "kernelspec": {
      "name": "python3",
      "display_name": "Python 3"
    },
    "language_info": {
      "name": "python"
    }
  },
  "cells": [
    {
      "cell_type": "markdown",
      "metadata": {
        "id": "view-in-github",
        "colab_type": "text"
      },
      "source": [
        "<a href=\"https://colab.research.google.com/github/musfi64/Abstraction-and-Polymorphism/blob/main/welcome.ipynb\" target=\"_parent\"><img src=\"https://colab.research.google.com/assets/colab-badge.svg\" alt=\"Open In Colab\"/></a>"
      ]
    },
    {
      "cell_type": "code",
      "execution_count": 6,
      "metadata": {
        "colab": {
          "base_uri": "https://localhost:8080/"
        },
        "id": "hzSWnIdUEveZ",
        "outputId": "6843d586-94b8-4a68-cb02-5bed16c7c4b8"
      },
      "outputs": [
        {
          "output_type": "stream",
          "name": "stdout",
          "text": [
            "Original array:\n",
            "[(b'Nora', 5, 48.5 ) (b'James', 6, 52.5 ) (b'Paul', 5, 42.5 )\n",
            " (b'Pit', 5, 40.11)]\n",
            "Sort by height\n",
            "[(b'Pit', 5, 40.11) (b'Paul', 5, 42.5 ) (b'Nora', 5, 48.5 )\n",
            " (b'James', 6, 52.5 )]\n"
          ]
        }
      ],
      "source": [
        "import numpy as np\n",
        "data_type=[('name', 'S15'),('class', int), ('height', float)]\n",
        "student_details=[('Nora', 5, 48.5), ('James', 6, 52.5), ('Paul', 5, 42.5), ('Pit', 5,40.11)]\n",
        "student=np.array(student_details, dtype=data_type)\n",
        "print(\"Original array:\")\n",
        "print(student)\n",
        "print(\"Sort by height\")\n",
        "print(np.sort(student, order='height'))"
      ]
    }
  ]
}