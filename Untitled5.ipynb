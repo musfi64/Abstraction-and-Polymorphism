{
  "nbformat": 4,
  "nbformat_minor": 0,
  "metadata": {
    "colab": {
      "provenance": [],
      "authorship_tag": "ABX9TyN+OwbF4rbIE3GXAh9ZSrSa",
      "include_colab_link": true
    },
    "kernelspec": {
      "name": "python3",
      "display_name": "Python 3"
    },
    "language_info": {
      "name": "python"
    }
  },
  "cells": [
    {
      "cell_type": "markdown",
      "metadata": {
        "id": "view-in-github",
        "colab_type": "text"
      },
      "source": [
        "<a href=\"https://colab.research.google.com/github/musfi64/Abstraction-and-Polymorphism/blob/main/Untitled5.ipynb\" target=\"_parent\"><img src=\"https://colab.research.google.com/assets/colab-badge.svg\" alt=\"Open In Colab\"/></a>"
      ]
    },
    {
      "cell_type": "code",
      "execution_count": 3,
      "metadata": {
        "colab": {
          "base_uri": "https://localhost:8080/"
        },
        "id": "24UHA3VuSrAg",
        "outputId": "e4dc3de9-7f32-415c-fd5f-5a52cb445afa"
      },
      "outputs": [
        {
          "output_type": "stream",
          "name": "stdout",
          "text": [
            "Enter your number:684\n",
            "684 is not a palindrome\n"
          ]
        }
      ],
      "source": [
        "number= int(input(\"Enter your number:\"))\n",
        "original_number=number\n",
        "reversed_number=0\n",
        "while number>0:\n",
        "  digit=number%10\n",
        "  reversed_number=reversed_number*10+digit\n",
        "  number//=10\n",
        "if original_number==reversed_number:\n",
        "  print(f\"{original_number} is a palindrome\")\n",
        "else:\n",
        "  print(f\"{original_number} is not a palindrome\")"
      ]
    },
    {
      "cell_type": "code",
      "source": [
        "numberLargest=int(input(\"enter the largest number:\"))\n",
        "numberSmallest=int(input(\"enter the mallest number:\"))\n",
        "while numberSmallest:\n",
        "  numberStore=numberSmallest\n",
        "  numberSmallest=numberLargest%numberSmallest\n",
        "  numberLargest=numberStore\n",
        "print(\"HCF is:\", numberLargest)"
      ],
      "metadata": {
        "colab": {
          "base_uri": "https://localhost:8080/"
        },
        "id": "byxxSK4FViVG",
        "outputId": "302356c1-8fb9-4138-b6c3-b8c30ed7ae71"
      },
      "execution_count": 4,
      "outputs": [
        {
          "output_type": "stream",
          "name": "stdout",
          "text": [
            "enter the largest number:15\n",
            "enter the mallest number:3\n",
            "HCF is: 3\n"
          ]
        }
      ]
    },
    {
      "cell_type": "code",
      "source": [
        "def lcm(a, b):\n",
        "    from math import gcd\n",
        "    return a * b // gcd(a, b)\n",
        "\n",
        "# Get input from the user\n",
        "num1 = int(input(\"Enter first number: \"))\n",
        "num2 = int(input(\"Enter second number: \"))\n",
        "\n",
        "# Calculate and print LCM\n",
        "print(\"LCM of\", num1, \"and\", num2, \"is\", lcm(num1, num2))\n"
      ],
      "metadata": {
        "colab": {
          "base_uri": "https://localhost:8080/"
        },
        "id": "iJ6dyQATXILv",
        "outputId": "75c90ff7-794b-41da-aeec-aeda3897e938"
      },
      "execution_count": 6,
      "outputs": [
        {
          "output_type": "stream",
          "name": "stdout",
          "text": [
            "Enter first number: 25\n",
            "Enter second number: 5\n",
            "LCM of 25 and 5 is 25\n"
          ]
        }
      ]
    }
  ]
}