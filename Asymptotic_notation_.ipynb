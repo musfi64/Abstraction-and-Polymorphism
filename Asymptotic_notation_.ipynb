{
  "nbformat": 4,
  "nbformat_minor": 0,
  "metadata": {
    "colab": {
      "provenance": [],
      "authorship_tag": "ABX9TyPaczy5yUle3X7et6Ah80Gg",
      "include_colab_link": true
    },
    "kernelspec": {
      "name": "python3",
      "display_name": "Python 3"
    },
    "language_info": {
      "name": "python"
    }
  },
  "cells": [
    {
      "cell_type": "markdown",
      "metadata": {
        "id": "view-in-github",
        "colab_type": "text"
      },
      "source": [
        "<a href=\"https://colab.research.google.com/github/musfi64/Abstraction-and-Polymorphism/blob/main/Asymptotic_notation_.ipynb\" target=\"_parent\"><img src=\"https://colab.research.google.com/assets/colab-badge.svg\" alt=\"Open In Colab\"/></a>"
      ]
    },
    {
      "cell_type": "code",
      "execution_count": 2,
      "metadata": {
        "colab": {
          "base_uri": "https://localhost:8080/"
        },
        "id": "Tz2e5uMLGnir",
        "outputId": "4a9bf29a-9b10-4082-8442-d182ea70c825"
      },
      "outputs": [
        {
          "output_type": "stream",
          "name": "stdout",
          "text": [
            "10\n",
            "1\n",
            "20\n",
            "1\n"
          ]
        }
      ],
      "source": [
        "def abc(n):\n",
        "  i=0\n",
        "  print(n)\n",
        "  i=i+1\n",
        "  print(i)\n",
        "abc(10)\n",
        "abc(20)"
      ]
    },
    {
      "cell_type": "code",
      "source": [
        "def abc(n):\n",
        "  a=0\n",
        "  for i in range(1,n+1):\n",
        "    a=a+1\n",
        "  print(n,a)\n",
        "abc(10)\n",
        "abc(20)"
      ],
      "metadata": {
        "colab": {
          "base_uri": "https://localhost:8080/"
        },
        "id": "nesgMqZHHiPj",
        "outputId": "e054fa36-2aa1-45d1-8bf5-ff43d82668db"
      },
      "execution_count": 3,
      "outputs": [
        {
          "output_type": "stream",
          "name": "stdout",
          "text": [
            "10 10\n",
            "20 20\n"
          ]
        }
      ]
    },
    {
      "cell_type": "code",
      "source": [
        "def abc(n):\n",
        "  a=0\n",
        "  for i in range(0,n):\n",
        "    for j in range(0,n):\n",
        "      print(\"$\",end=\" \")\n",
        "      a=a+1\n",
        "    print(\"\")\n",
        "  print(n,a)\n",
        "abc(10)\n",
        "abc(20)"
      ],
      "metadata": {
        "colab": {
          "base_uri": "https://localhost:8080/"
        },
        "id": "pj4rCQMeIbqg",
        "outputId": "55597709-30ef-4e3d-e141-41cadd82b7f4"
      },
      "execution_count": 5,
      "outputs": [
        {
          "output_type": "stream",
          "name": "stdout",
          "text": [
            "$ $ $ $ $ $ $ $ $ $ \n",
            "$ $ $ $ $ $ $ $ $ $ \n",
            "$ $ $ $ $ $ $ $ $ $ \n",
            "$ $ $ $ $ $ $ $ $ $ \n",
            "$ $ $ $ $ $ $ $ $ $ \n",
            "$ $ $ $ $ $ $ $ $ $ \n",
            "$ $ $ $ $ $ $ $ $ $ \n",
            "$ $ $ $ $ $ $ $ $ $ \n",
            "$ $ $ $ $ $ $ $ $ $ \n",
            "$ $ $ $ $ $ $ $ $ $ \n",
            "10 100\n",
            "$ $ $ $ $ $ $ $ $ $ $ $ $ $ $ $ $ $ $ $ \n",
            "$ $ $ $ $ $ $ $ $ $ $ $ $ $ $ $ $ $ $ $ \n",
            "$ $ $ $ $ $ $ $ $ $ $ $ $ $ $ $ $ $ $ $ \n",
            "$ $ $ $ $ $ $ $ $ $ $ $ $ $ $ $ $ $ $ $ \n",
            "$ $ $ $ $ $ $ $ $ $ $ $ $ $ $ $ $ $ $ $ \n",
            "$ $ $ $ $ $ $ $ $ $ $ $ $ $ $ $ $ $ $ $ \n",
            "$ $ $ $ $ $ $ $ $ $ $ $ $ $ $ $ $ $ $ $ \n",
            "$ $ $ $ $ $ $ $ $ $ $ $ $ $ $ $ $ $ $ $ \n",
            "$ $ $ $ $ $ $ $ $ $ $ $ $ $ $ $ $ $ $ $ \n",
            "$ $ $ $ $ $ $ $ $ $ $ $ $ $ $ $ $ $ $ $ \n",
            "$ $ $ $ $ $ $ $ $ $ $ $ $ $ $ $ $ $ $ $ \n",
            "$ $ $ $ $ $ $ $ $ $ $ $ $ $ $ $ $ $ $ $ \n",
            "$ $ $ $ $ $ $ $ $ $ $ $ $ $ $ $ $ $ $ $ \n",
            "$ $ $ $ $ $ $ $ $ $ $ $ $ $ $ $ $ $ $ $ \n",
            "$ $ $ $ $ $ $ $ $ $ $ $ $ $ $ $ $ $ $ $ \n",
            "$ $ $ $ $ $ $ $ $ $ $ $ $ $ $ $ $ $ $ $ \n",
            "$ $ $ $ $ $ $ $ $ $ $ $ $ $ $ $ $ $ $ $ \n",
            "$ $ $ $ $ $ $ $ $ $ $ $ $ $ $ $ $ $ $ $ \n",
            "$ $ $ $ $ $ $ $ $ $ $ $ $ $ $ $ $ $ $ $ \n",
            "$ $ $ $ $ $ $ $ $ $ $ $ $ $ $ $ $ $ $ $ \n",
            "20 400\n"
          ]
        }
      ]
    }
  ]
}