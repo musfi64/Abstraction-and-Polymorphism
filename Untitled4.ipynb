{
  "nbformat": 4,
  "nbformat_minor": 0,
  "metadata": {
    "colab": {
      "provenance": [],
      "authorship_tag": "ABX9TyN2HPs9xO57Y3YHHMKvbBzG",
      "include_colab_link": true
    },
    "kernelspec": {
      "name": "python3",
      "display_name": "Python 3"
    },
    "language_info": {
      "name": "python"
    }
  },
  "cells": [
    {
      "cell_type": "markdown",
      "metadata": {
        "id": "view-in-github",
        "colab_type": "text"
      },
      "source": [
        "<a href=\"https://colab.research.google.com/github/musfi64/Abstraction-and-Polymorphism/blob/main/Untitled4.ipynb\" target=\"_parent\"><img src=\"https://colab.research.google.com/assets/colab-badge.svg\" alt=\"Open In Colab\"/></a>"
      ]
    },
    {
      "cell_type": "code",
      "execution_count": 4,
      "metadata": {
        "colab": {
          "base_uri": "https://localhost:8080/"
        },
        "id": "hLKcmweGIuV-",
        "outputId": "9b09bbcf-fe12-46ab-c93b-1b90274b16be"
      },
      "outputs": [
        {
          "output_type": "stream",
          "name": "stdout",
          "text": [
            "Input number:157\n",
            "469\n",
            "157 is not an armstrong number\n"
          ]
        }
      ],
      "source": [
        "number=int(input(\"Input number:\"))\n",
        "result=0\n",
        "temp = number\n",
        "while temp!= 0:\n",
        "  digit=temp % 10\n",
        "  result = result+digit**3\n",
        "  temp = temp//10\n",
        "print(result)\n",
        "if number == result:\n",
        "  print(number, \"is an amstrong number\")\n",
        "else:\n",
        "  print(number, \"is not an armstrong number\")"
      ]
    },
    {
      "cell_type": "code",
      "source": [
        "def print_factors(number):\n",
        "  print(\"The factors of\", number, \"are:\")\n",
        "  for i in range(1, number+1):\n",
        "    if number % i == 0:\n",
        "      print(i)\n",
        "number = int(input(\"Enter your number to find it's factors:\"))\n",
        "print_factors(number)"
      ],
      "metadata": {
        "colab": {
          "base_uri": "https://localhost:8080/"
        },
        "id": "tS-prsOaKb6g",
        "outputId": "80bf9889-aa0f-4b49-9fde-e86b19db2c9b"
      },
      "execution_count": 3,
      "outputs": [
        {
          "output_type": "stream",
          "name": "stdout",
          "text": [
            "Enter your number to find it's factors:35\n",
            "The factors of 35 are:\n",
            "1\n",
            "5\n",
            "7\n",
            "35\n"
          ]
        }
      ]
    }
  ]
}