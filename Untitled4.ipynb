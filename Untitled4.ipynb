{
  "nbformat": 4,
  "nbformat_minor": 0,
  "metadata": {
    "colab": {
      "provenance": [],
      "authorship_tag": "ABX9TyOUdb7S0zyj+cB4gf/t6/p1",
      "include_colab_link": true
    },
    "kernelspec": {
      "name": "python3",
      "display_name": "Python 3"
    },
    "language_info": {
      "name": "python"
    }
  },
  "cells": [
    {
      "cell_type": "markdown",
      "metadata": {
        "id": "view-in-github",
        "colab_type": "text"
      },
      "source": [
        "<a href=\"https://colab.research.google.com/github/musfi64/Abstraction-and-Polymorphism/blob/main/Untitled4.ipynb\" target=\"_parent\"><img src=\"https://colab.research.google.com/assets/colab-badge.svg\" alt=\"Open In Colab\"/></a>"
      ]
    },
    {
      "cell_type": "code",
      "execution_count": 4,
      "metadata": {
        "colab": {
          "base_uri": "https://localhost:8080/"
        },
        "id": "hLKcmweGIuV-",
        "outputId": "9b09bbcf-fe12-46ab-c93b-1b90274b16be"
      },
      "outputs": [
        {
          "output_type": "stream",
          "name": "stdout",
          "text": [
            "Input number:157\n",
            "469\n",
            "157 is not an armstrong number\n"
          ]
        }
      ],
      "source": [
        "number=int(input(\"Input number:\"))\n",
        "result=0\n",
        "temp = number\n",
        "while temp!= 0:\n",
        "  digit=temp % 10\n",
        "  result = result+digit**3\n",
        "  temp = temp//10\n",
        "print(result)\n",
        "if number == result:\n",
        "  print(number, \"is an amstrong number\")\n",
        "else:\n",
        "  print(number, \"is not an armstrong number\")"
      ]
    },
    {
      "cell_type": "code",
      "source": [
        "def print_factors(number):\n",
        "  print(\"The factors of\", number, \"are:\")\n",
        "  for i in range(1, number+1):\n",
        "    if number % i == 0:\n",
        "      print(i)\n",
        "number = int(input(\"Enter your number to find it's factors:\"))\n",
        "print_factors(number)"
      ],
      "metadata": {
        "colab": {
          "base_uri": "https://localhost:8080/"
        },
        "id": "tS-prsOaKb6g",
        "outputId": "80bf9889-aa0f-4b49-9fde-e86b19db2c9b"
      },
      "execution_count": 3,
      "outputs": [
        {
          "output_type": "stream",
          "name": "stdout",
          "text": [
            "Enter your number to find it's factors:35\n",
            "The factors of 35 are:\n",
            "1\n",
            "5\n",
            "7\n",
            "35\n"
          ]
        }
      ]
    },
    {
      "cell_type": "code",
      "source": [
        "def roman_to_int(a):\n",
        "  roman={'I':1, 'V':5, 'X':10, 'L':50, 'C':100}\n",
        "  int_forn=0\n",
        "  for i in range(len(a)):\n",
        "    if i+1<len(a) and roman[a[i]]<roman[a[i+1]]:\n",
        "      int_form-=roman[a[i]]\n",
        "    else:\n",
        "      int_form+=roman[a[i]]\n",
        "  return int_form\n",
        "a=str(input(\"enter a roman number\"))\n",
        "print(\"interger form of\", a, \"is\", roman_to_int(a))"
      ],
      "metadata": {
        "colab": {
          "base_uri": "https://localhost:8080/",
          "height": 332
        },
        "id": "CtWWWAg8ONi6",
        "outputId": "26836fc2-4931-4d54-a437-236d7180ce82"
      },
      "execution_count": 7,
      "outputs": [
        {
          "name": "stdout",
          "output_type": "stream",
          "text": [
            "enter a roman numberx\n"
          ]
        },
        {
          "output_type": "error",
          "ename": "UnboundLocalError",
          "evalue": "cannot access local variable 'int_form' where it is not associated with a value",
          "traceback": [
            "\u001b[0;31m---------------------------------------------------------------------------\u001b[0m",
            "\u001b[0;31mUnboundLocalError\u001b[0m                         Traceback (most recent call last)",
            "\u001b[0;32m<ipython-input-7-feb705814ff0>\u001b[0m in \u001b[0;36m<cell line: 0>\u001b[0;34m()\u001b[0m\n\u001b[1;32m      9\u001b[0m   \u001b[0;32mreturn\u001b[0m \u001b[0mint_form\u001b[0m\u001b[0;34m\u001b[0m\u001b[0;34m\u001b[0m\u001b[0m\n\u001b[1;32m     10\u001b[0m \u001b[0ma\u001b[0m\u001b[0;34m=\u001b[0m\u001b[0mstr\u001b[0m\u001b[0;34m(\u001b[0m\u001b[0minput\u001b[0m\u001b[0;34m(\u001b[0m\u001b[0;34m\"enter a roman number\"\u001b[0m\u001b[0;34m)\u001b[0m\u001b[0;34m)\u001b[0m\u001b[0;34m\u001b[0m\u001b[0;34m\u001b[0m\u001b[0m\n\u001b[0;32m---> 11\u001b[0;31m \u001b[0mprint\u001b[0m\u001b[0;34m(\u001b[0m\u001b[0;34m\"interger form of\"\u001b[0m\u001b[0;34m,\u001b[0m \u001b[0ma\u001b[0m\u001b[0;34m,\u001b[0m \u001b[0;34m\"is\"\u001b[0m\u001b[0;34m,\u001b[0m \u001b[0mroman_to_int\u001b[0m\u001b[0;34m(\u001b[0m\u001b[0ma\u001b[0m\u001b[0;34m)\u001b[0m\u001b[0;34m)\u001b[0m\u001b[0;34m\u001b[0m\u001b[0;34m\u001b[0m\u001b[0m\n\u001b[0m",
            "\u001b[0;32m<ipython-input-7-feb705814ff0>\u001b[0m in \u001b[0;36mroman_to_int\u001b[0;34m(a)\u001b[0m\n\u001b[1;32m      6\u001b[0m       \u001b[0mint_form\u001b[0m\u001b[0;34m-=\u001b[0m\u001b[0mroman\u001b[0m\u001b[0;34m[\u001b[0m\u001b[0ma\u001b[0m\u001b[0;34m[\u001b[0m\u001b[0mi\u001b[0m\u001b[0;34m]\u001b[0m\u001b[0;34m]\u001b[0m\u001b[0;34m\u001b[0m\u001b[0;34m\u001b[0m\u001b[0m\n\u001b[1;32m      7\u001b[0m     \u001b[0;32melse\u001b[0m\u001b[0;34m:\u001b[0m\u001b[0;34m\u001b[0m\u001b[0;34m\u001b[0m\u001b[0m\n\u001b[0;32m----> 8\u001b[0;31m       \u001b[0mint_form\u001b[0m\u001b[0;34m+=\u001b[0m\u001b[0mroman\u001b[0m\u001b[0;34m[\u001b[0m\u001b[0ma\u001b[0m\u001b[0;34m[\u001b[0m\u001b[0mi\u001b[0m\u001b[0;34m]\u001b[0m\u001b[0;34m]\u001b[0m\u001b[0;34m\u001b[0m\u001b[0;34m\u001b[0m\u001b[0m\n\u001b[0m\u001b[1;32m      9\u001b[0m   \u001b[0;32mreturn\u001b[0m \u001b[0mint_form\u001b[0m\u001b[0;34m\u001b[0m\u001b[0;34m\u001b[0m\u001b[0m\n\u001b[1;32m     10\u001b[0m \u001b[0ma\u001b[0m\u001b[0;34m=\u001b[0m\u001b[0mstr\u001b[0m\u001b[0;34m(\u001b[0m\u001b[0minput\u001b[0m\u001b[0;34m(\u001b[0m\u001b[0;34m\"enter a roman number\"\u001b[0m\u001b[0;34m)\u001b[0m\u001b[0;34m)\u001b[0m\u001b[0;34m\u001b[0m\u001b[0;34m\u001b[0m\u001b[0m\n",
            "\u001b[0;31mUnboundLocalError\u001b[0m: cannot access local variable 'int_form' where it is not associated with a value"
          ]
        }
      ]
    },
    {
      "cell_type": "code",
      "source": [
        "def roman_to_int(a):\n",
        "    roman = {'I': 1, 'V': 5, 'X': 10, 'L': 50, 'C': 100, 'D': 500, 'M': 1000}\n",
        "    int_form = 0\n",
        "    for i in range(len(a)):\n",
        "        if i + 1 < len(a) and roman[a[i]] < roman[a[i + 1]]:\n",
        "            int_form -= roman[a[i]]\n",
        "        else:\n",
        "            int_form += roman[a[i]]\n",
        "    return int_form\n",
        "\n",
        "a = input(\"Enter a Roman numeral: \").upper()\n",
        "print(\"Integer form of\", a, \"is\", roman_to_int(a))\n"
      ],
      "metadata": {
        "colab": {
          "base_uri": "https://localhost:8080/"
        },
        "id": "j99FWEP3RGcD",
        "outputId": "2b11949a-5622-4940-ead8-2a884080ddad"
      },
      "execution_count": 8,
      "outputs": [
        {
          "output_type": "stream",
          "name": "stdout",
          "text": [
            "Enter a Roman numeral: x\n",
            "Integer form of X is 10\n"
          ]
        }
      ]
    }
  ]
}