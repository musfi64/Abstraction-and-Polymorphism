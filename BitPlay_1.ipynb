{
  "nbformat": 4,
  "nbformat_minor": 0,
  "metadata": {
    "colab": {
      "provenance": [],
      "authorship_tag": "ABX9TyP4lGcHrcejuCZUAt4WTfEl",
      "include_colab_link": true
    },
    "kernelspec": {
      "name": "python3",
      "display_name": "Python 3"
    },
    "language_info": {
      "name": "python"
    }
  },
  "cells": [
    {
      "cell_type": "markdown",
      "metadata": {
        "id": "view-in-github",
        "colab_type": "text"
      },
      "source": [
        "<a href=\"https://colab.research.google.com/github/musfi64/Abstraction-and-Polymorphism/blob/main/BitPlay_1.ipynb\" target=\"_parent\"><img src=\"https://colab.research.google.com/assets/colab-badge.svg\" alt=\"Open In Colab\"/></a>"
      ]
    },
    {
      "cell_type": "code",
      "execution_count": 2,
      "metadata": {
        "colab": {
          "base_uri": "https://localhost:8080/"
        },
        "id": "PRQZAesWQ5YM",
        "outputId": "bc8801ca-481a-45b7-bfb0-79339178469b"
      },
      "outputs": [
        {
          "output_type": "stream",
          "name": "stdout",
          "text": [
            "Enter a number: 25\n",
            "Number of ones =  3 \n",
            "Number of zeroes = 2\n"
          ]
        }
      ],
      "source": [
        "def numberOfBits(n):\n",
        "  ones=0\n",
        "  zeroes=0\n",
        "  while (n):\n",
        "    if (n & 1 == 1):\n",
        "      ones += 1\n",
        "    else:\n",
        "      zeroes += 1\n",
        "    n >>= 1\n",
        "  print(\"Number of ones = \", ones, \"\\nNumber of zeroes =\", zeroes)\n",
        "number=int(input(\"Enter a number: \"))\n",
        "numberOfBits(number)"
      ]
    },
    {
      "cell_type": "code",
      "source": [
        "def setOrNot(number, n):\n",
        "  mask=1\n",
        "  if (n & mask) == 1 or (n & mask) == 0:\n",
        "    if number & (1 << n) == 1:\n",
        "      print(\"The bit is set\")\n",
        "    else:\n",
        "      print(\"The bit is not set\")\n",
        "number=int(input(\"Enter a number: \"))\n",
        "n=int(input(\"Enter the bit position: \"))\n",
        "setOrNot(number, n)"
      ],
      "metadata": {
        "colab": {
          "base_uri": "https://localhost:8080/"
        },
        "id": "XeCsKbDKScg7",
        "outputId": "2e69c837-9767-49e2-eb53-978205a18397"
      },
      "execution_count": 6,
      "outputs": [
        {
          "output_type": "stream",
          "name": "stdout",
          "text": [
            "Enter a number: 31\n",
            "Enter the bit position: 4\n",
            "The bit is not set\n"
          ]
        }
      ]
    },
    {
      "cell_type": "code",
      "source": [
        "def  firstSetBit(n):\n",
        "  count=1\n",
        "  while(n):\n",
        "    if(n&1==1):\n",
        "      break\n",
        "    count += 1\n",
        "    n >>= 1\n",
        "\n",
        "  return count\n",
        "print(firstSetBit(10))"
      ],
      "metadata": {
        "colab": {
          "base_uri": "https://localhost:8080/"
        },
        "id": "3IKwkGcUU2oE",
        "outputId": "832e3e14-1534-4700-9db5-969e449f5361"
      },
      "execution_count": 9,
      "outputs": [
        {
          "output_type": "stream",
          "name": "stdout",
          "text": [
            "2\n"
          ]
        }
      ]
    }
  ]
}