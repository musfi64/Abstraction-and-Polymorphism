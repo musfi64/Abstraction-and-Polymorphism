{
  "nbformat": 4,
  "nbformat_minor": 0,
  "metadata": {
    "colab": {
      "provenance": [],
      "authorship_tag": "ABX9TyOrqYT7XB1dwKR1O0yNezht",
      "include_colab_link": true
    },
    "kernelspec": {
      "name": "python3",
      "display_name": "Python 3"
    },
    "language_info": {
      "name": "python"
    }
  },
  "cells": [
    {
      "cell_type": "markdown",
      "metadata": {
        "id": "view-in-github",
        "colab_type": "text"
      },
      "source": [
        "<a href=\"https://colab.research.google.com/github/musfi64/Abstraction-and-Polymorphism/blob/main/Untitled8.ipynb\" target=\"_parent\"><img src=\"https://colab.research.google.com/assets/colab-badge.svg\" alt=\"Open In Colab\"/></a>"
      ]
    },
    {
      "cell_type": "code",
      "execution_count": 1,
      "metadata": {
        "colab": {
          "base_uri": "https://localhost:8080/"
        },
        "id": "2Ne5cN1bVfaa",
        "outputId": "c4bf0203-850d-4e47-e9eb-24c393efe91f"
      },
      "outputs": [
        {
          "output_type": "stream",
          "name": "stdout",
          "text": [
            "enter first number to compare 2874\n",
            "enter second number to compsre 3655\n",
            "numbers are not equal\n"
          ]
        }
      ],
      "source": [
        "def checkIfSame(number1, number2):\n",
        "  if ((number1 ^ number2)!= 0):\n",
        "    print(\"numbers are not equal\")\n",
        "  else:\n",
        "    print(\" both numbers are equal\")\n",
        "\n",
        "number1 = int(input(\"enter first number to compare \"))\n",
        "number2 = int(input(\"enter second number to compsre \"))\n",
        "checkIfSame(number1, number2)"
      ]
    },
    {
      "cell_type": "code",
      "source": [
        "def OddOccuring(arr):\n",
        "  res=0\n",
        "  for element in arr:\n",
        "    res=res^element\n",
        "  return res\n",
        "arr=[]\n",
        "n=int(input(\"Enter array size:\"))\n",
        "while(n):\n",
        "  num=int(input(\"enter number:\"))\n",
        "  arr.append(num)\n",
        "  n-=1\n",
        "print(\"OddOcuring number is\", OddOccuring(arr))\n"
      ],
      "metadata": {
        "colab": {
          "base_uri": "https://localhost:8080/"
        },
        "id": "xrTG5hE_bsEB",
        "outputId": "99d8c4af-eaa6-48ff-e54a-5627466eba0b"
      },
      "execution_count": 7,
      "outputs": [
        {
          "output_type": "stream",
          "name": "stdout",
          "text": [
            "Enter array size:3\n",
            "enter number:56\n",
            "enter number:58\n",
            "enter number:54\n",
            "OddOcuring number is 52\n"
          ]
        }
      ]
    },
    {
      "cell_type": "code",
      "source": [
        "def TwoOdd(arr, size):\n",
        "  xorof2=arr[0]\n",
        "  x=0\n",
        "  y=0\n",
        "  SetBit=0\n",
        "  for i in range(1, size):\n",
        "    xorof2-xorof2^arr[i]\n",
        "  SetBit=xorof2 & ~(xorof2-1)\n",
        "  for i in range(0, size):\n",
        "    if(arr[i] & SetBit):\n",
        "      x=x^arr[i]\n",
        "    else:\n",
        "      y=y^arr[i]\n",
        "  print(\"TwoOdd elements are\", x, \"&\". y)\n",
        "\n",
        "arr=[]\n",
        "arr_size=int(input(\"Enter the size of the array\"))\n",
        "for i in range(0, arr_size):\n",
        "  z=int(input(\"Enter the element\"))\n",
        "  arr.append(z)\n",
        "print(\"TwoOdd\")"
      ],
      "metadata": {
        "colab": {
          "base_uri": "https://localhost:8080/"
        },
        "id": "SzwJLVeRdEr0",
        "outputId": "15432ce9-78be-483d-a701-5c750a9d818b"
      },
      "execution_count": 9,
      "outputs": [
        {
          "output_type": "stream",
          "name": "stdout",
          "text": [
            "Enter the size of the array3\n",
            "Enter the element58\n",
            "Enter the element52\n",
            "Enter the element52\n",
            "TwoOdd\n"
          ]
        }
      ]
    },
    {
      "cell_type": "code",
      "source": [],
      "metadata": {
        "id": "h3EKn9llfqLa"
      },
      "execution_count": null,
      "outputs": []
    },
    {
      "cell_type": "code",
      "source": [],
      "metadata": {
        "id": "4ft4fJ5yfp9c"
      },
      "execution_count": null,
      "outputs": []
    }
  ]
}