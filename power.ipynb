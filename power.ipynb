{
  "nbformat": 4,
  "nbformat_minor": 0,
  "metadata": {
    "colab": {
      "provenance": [],
      "authorship_tag": "ABX9TyOYzrxFw54gUOaHprkn0P5z",
      "include_colab_link": true
    },
    "kernelspec": {
      "name": "python3",
      "display_name": "Python 3"
    },
    "language_info": {
      "name": "python"
    }
  },
  "cells": [
    {
      "cell_type": "markdown",
      "metadata": {
        "id": "view-in-github",
        "colab_type": "text"
      },
      "source": [
        "<a href=\"https://colab.research.google.com/github/musfi64/Abstraction-and-Polymorphism/blob/main/power.ipynb\" target=\"_parent\"><img src=\"https://colab.research.google.com/assets/colab-badge.svg\" alt=\"Open In Colab\"/></a>"
      ]
    },
    {
      "cell_type": "code",
      "execution_count": 7,
      "metadata": {
        "colab": {
          "base_uri": "https://localhost:8080/"
        },
        "id": "ZRyKnkXxRaFd",
        "outputId": "a6bcd21b-930d-4f80-edb0-12d610a139e4"
      },
      "outputs": [
        {
          "output_type": "execute_result",
          "data": {
            "text/plain": [
              "True"
            ]
          },
          "metadata": {},
          "execution_count": 7
        }
      ],
      "source": [
        "def abc(x):\n",
        "  if (x==0):\n",
        "    return False\n",
        "  else:\n",
        "    while (x%2==0):\n",
        "      x/=2;\n",
        "  return(x==1)\n",
        "\n",
        "abc(7)\n",
        "abc(1)"
      ]
    },
    {
      "cell_type": "code",
      "source": [
        "def abc(x):\n",
        "  if(x==0):\n",
        "    return False\n",
        "  else:\n",
        "    while (x%4==0):\n",
        "      x/=4;\n",
        "  return(x==1)\n",
        "abc(79)\n",
        "abc(67)"
      ],
      "metadata": {
        "colab": {
          "base_uri": "https://localhost:8080/"
        },
        "id": "SLE39NXvUNJx",
        "outputId": "6825c986-8dab-44c8-8594-951371aa2a51"
      },
      "execution_count": 10,
      "outputs": [
        {
          "output_type": "execute_result",
          "data": {
            "text/plain": [
              "False"
            ]
          },
          "metadata": {},
          "execution_count": 10
        }
      ]
    },
    {
      "cell_type": "code",
      "source": [
        "def abc(x):\n",
        "  if(x==0):\n",
        "    return False\n",
        "  else:\n",
        "    while (x%8==0):\n",
        "      x/=8;\n",
        "  return(x==1)\n",
        "abc(5)\n",
        "abc(76)"
      ],
      "metadata": {
        "colab": {
          "base_uri": "https://localhost:8080/"
        },
        "id": "2itYB_sMUo0p",
        "outputId": "afb6de20-fbf8-437f-8ac3-05eca0ad5004"
      },
      "execution_count": 11,
      "outputs": [
        {
          "output_type": "execute_result",
          "data": {
            "text/plain": [
              "False"
            ]
          },
          "metadata": {},
          "execution_count": 11
        }
      ]
    },
    {
      "cell_type": "code",
      "source": [
        "def abc(x, y):\n",
        "  result=1\n",
        "  while y>0:\n",
        "    if(y%2==0):\n",
        "      x=x*x\n",
        "      y>>=1\n",
        "    else:\n",
        "      result=result*x\n",
        "      y=y-1\n",
        "  return result\n",
        "x=int(input(\"Enter x for x^y :\"))\n",
        "y=int(input(\"Enter y for x^y :\"))\n",
        "print(\"Total :\", (abc(x, y)))"
      ],
      "metadata": {
        "colab": {
          "base_uri": "https://localhost:8080/"
        },
        "id": "TKaDlKmBUyco",
        "outputId": "d6c28250-eeb1-495f-a295-a2b275fd82e7"
      },
      "execution_count": 13,
      "outputs": [
        {
          "output_type": "stream",
          "name": "stdout",
          "text": [
            "Enter x for x^y :2\n",
            "Enter y for x^y :4\n",
            "Total : 16\n"
          ]
        }
      ]
    }
  ]
}