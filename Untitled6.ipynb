{
  "nbformat": 4,
  "nbformat_minor": 0,
  "metadata": {
    "colab": {
      "provenance": [],
      "authorship_tag": "ABX9TyNFEu5jiG/dtXvsdk3VkKs1",
      "include_colab_link": true
    },
    "kernelspec": {
      "name": "python3",
      "display_name": "Python 3"
    },
    "language_info": {
      "name": "python"
    }
  },
  "cells": [
    {
      "cell_type": "markdown",
      "metadata": {
        "id": "view-in-github",
        "colab_type": "text"
      },
      "source": [
        "<a href=\"https://colab.research.google.com/github/musfi64/Abstraction-and-Polymorphism/blob/main/Untitled6.ipynb\" target=\"_parent\"><img src=\"https://colab.research.google.com/assets/colab-badge.svg\" alt=\"Open In Colab\"/></a>"
      ]
    },
    {
      "cell_type": "code",
      "execution_count": 7,
      "metadata": {
        "colab": {
          "base_uri": "https://localhost:8080/"
        },
        "id": "133ghED1LFJG",
        "outputId": "1d04d2a0-f12b-433f-a079-76d9aaa5f546"
      },
      "outputs": [
        {
          "output_type": "stream",
          "name": "stdout",
          "text": [
            "Enter your number \n",
            "15\n",
            "15 is not a prime number\n"
          ]
        }
      ],
      "source": [
        "from math import sqrt\n",
        "number=int(input(\"Enter your number \\n\"))\n",
        "if number>1:\n",
        "  for i in range(2, int(sqrt(number))+1):\n",
        "    if(number%i==0):\n",
        "      print(number, \"is not a prime number\")\n",
        "      break\n",
        "  else:\n",
        "    print(number, \"is a prime number\")\n",
        "else:\n",
        "    print(number, \"is not a prime number\")"
      ]
    },
    {
      "cell_type": "code",
      "source": [
        "def primeSeive(n):\n",
        "  prime=[True for i in range(n+1)]\n",
        "  CurrentNumber=2\n",
        "  while (CurrentNumber*CurrentNumber <=n):\n",
        "    if (prime[CurrentNumber]==True):\n",
        "      for i in range(CurrentNumber**2, n+1, CurrentNumber):\n",
        "        prime[i]=False\n",
        "    CurrentNumber+=1\n",
        "  prime[0]=False\n",
        "  prime[1]=False\n",
        "  for p in range(n+1):\n",
        "    if prime[p]:\n",
        "      print(p)\n",
        "n=int(input(\"Enter number to find all prime numbers less than the number:\"))\n",
        "primeSeive(n)\n",
        "print(\"following are the prime number smaller.\")\n",
        "print(\"than or equal to\")"
      ],
      "metadata": {
        "colab": {
          "base_uri": "https://localhost:8080/"
        },
        "id": "qnt9yiZKM9I4",
        "outputId": "1fab3598-f616-4bd5-cd7f-663c53792706"
      },
      "execution_count": 8,
      "outputs": [
        {
          "output_type": "stream",
          "name": "stdout",
          "text": [
            "Enter number to find all prime numbers less than the number:16\n",
            "2\n",
            "3\n",
            "5\n",
            "7\n",
            "11\n",
            "13\n",
            "following are the prime number smaller.\n",
            "than or equal to\n"
          ]
        }
      ]
    },
    {
      "cell_type": "code",
      "source": [
        "a=3000\n",
        "for num in range(1, a+1):\n",
        "  c=0\n",
        "  rev=0\n",
        "  temp=num\n",
        "  for i in range(1, temp+1):\n",
        "      if temp%i==0:\n",
        "        c+=1\n",
        "  if c==2:\n",
        "    while temp>0:\n",
        "      rev=rev*10+(temp%10)\n",
        "      temp//=10\n",
        "    if rev==num:\n",
        "      print(num)"
      ],
      "metadata": {
        "colab": {
          "base_uri": "https://localhost:8080/"
        },
        "id": "RwzMVW6mPd8q",
        "outputId": "3f864d0e-d81d-4c46-bd8d-0e3e67e67be5"
      },
      "execution_count": 12,
      "outputs": [
        {
          "output_type": "stream",
          "name": "stdout",
          "text": [
            "2\n",
            "3\n",
            "5\n",
            "7\n",
            "11\n",
            "101\n",
            "131\n",
            "151\n",
            "181\n",
            "191\n",
            "313\n",
            "353\n",
            "373\n",
            "383\n",
            "727\n",
            "757\n",
            "787\n",
            "797\n",
            "919\n",
            "929\n"
          ]
        }
      ]
    }
  ]
}